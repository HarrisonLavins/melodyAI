{
 "cells": [
  {
   "cell_type": "code",
   "execution_count": null,
   "metadata": {},
   "outputs": [],
   "source": [
    "import tensorflow as tf\n",
    "from tensorflow.keras import Sequential\n",
    "from tensorflow.keras.layers import LSTM, Dense, TimeDistributed, Bidirectional, Lambda\n",
    "from sklearn.model_selection import train_test_split\n",
    "import pickle\n",
    "import numpy as np\n",
    "from music21 import *\n",
    "from copy import deepcopy\n",
    "import os\n",
    "import datetime"
   ]
  },
  {
   "cell_type": "code",
   "execution_count": null,
   "metadata": {},
   "outputs": [],
   "source": [
    "# load the datasets and then split in to train/test data sets\n",
    "# note that we don't need label sets, only input sets for bidirectional LSTM (labels == inputs)\n",
    "# unidirectional label set is the same as the inputs but without the first time step\n",
    "with open(\"pickles/short_sequences_duration.pickle\", 'rb') as short_duration,\\\n",
    "     open(\"pickles/short_sequences_pitch.pickle\", 'rb') as short_pitch:\n",
    "    short_seqs_duration_train, short_seqs_duration_test = train_test_split(pickle.load(short_duration), train_size=0.95)\n",
    "    short_seqs_pitch_train, short_seqs_pitch_test = train_test_split(pickle.load(short_pitch), train_size=0.95)\n",
    "\n",
    "with open(\"pickles/medium_sequences_duration.pickle\", 'rb') as medium_duration,\\\n",
    "     open(\"pickles/medium_sequences_pitch.pickle\", 'rb') as medium_pitch:\n",
    "    medium_seqs_duration_train, medium_seqs_duration_test = train_test_split(pickle.load(medium_duration), train_size=0.95)\n",
    "    medium_seqs_pitch_train, medium_seqs_pitch_test = train_test_split(pickle.load(medium_pitch), train_size=0.95)\n",
    "    \n",
    "with open(\"pickles/long_sequences_duration.pickle\", 'rb') as long_duration,\\\n",
    "     open(\"pickles/long_sequences_pitch.pickle\", 'rb') as long_pitch:\n",
    "    long_seqs_duration_train, long_seqs_duration_test = train_test_split(pickle.load(long_duration), train_size=0.95)\n",
    "    long_seqs_pitch_train, long_seqs_pitch_test = train_test_split(pickle.load(long_pitch), train_size=0.95)"
   ]
  },
  {
   "cell_type": "code",
   "execution_count": null,
   "metadata": {},
   "outputs": [],
   "source": [
    "# retrieve the pitches and durations that were used to build the data set\n",
    "# these will be used to convert the output one-hot vectors back to actual pitch/duration values\n",
    "with open('pickles/durations.pickle', 'rb') as d, open('pickles/pitches.pickle', 'rb') as p:\n",
    "    durations = pickle.load(d)\n",
    "    pitches = pickle.load(p)\n",
    "\n",
    "num_durations = len(durations)\n",
    "num_pitches = len(pitches)\n",
    "short_seq_len = short_seqs_duration_train.shape[1]\n",
    "medium_seq_len = medium_seqs_duration_train.shape[1]\n",
    "long_seq_len = long_seqs_duration_train.shape[1]"
   ]
  },
  {
   "cell_type": "code",
   "execution_count": null,
   "metadata": {},
   "outputs": [],
   "source": [
    "def softmax(x):\n",
    "    return np.exp(x) / np.sum(np.exp(x), axis=0)\n",
    "\n",
    "# defines the function that will be used to transform the input before it is recurrently fed in\n",
    "# param. vector: one hot output of the previous time step after being passed through softmax activation func.\n",
    "@tf.function\n",
    "def sampling_activation(vector):\n",
    "    # vector should be 1D array\n",
    "    num_categories = vector.shape[0]\n",
    "    # converts the vector to a distribution, samples from it, returns the index of the value\n",
    "    # for some reason, thos does not work properly if I don't take the log of the vector\n",
    "    index = tf.random.categorical(softmax(vector.reshape((1, num_categories))), 1).numpy()[0][0]\n",
    "    ret_arr = np.zeros(num_categories)\n",
    "    ret_arr[index] = 1.0\n",
    "    return ret_arr"
   ]
  },
  {
   "cell_type": "code",
   "execution_count": null,
   "metadata": {},
   "outputs": [],
   "source": [
    "logits = np.array([1,2,3,4])\n",
    "logits_temp_p0 = logits / 0.01\n",
    "logits_temp_p2 = logits / 0.2\n",
    "logits_temp_p4 = logits / 0.4\n",
    "logits_temp_p6 = logits / 0.6\n",
    "logits_temp_p8 = logits / 0.8\n",
    "logits_temp_p10 = logits / 1.0\n",
    "logits_temp_p15 = logits / 1.5\n",
    "logits_temp_p150 = logits / 150\n",
    "\n",
    "print(f\"RAW: {softmax(logits)}\")\n",
    "print(f\"TEMP 0.0: {softmax(logits_temp_p0)}\")\n",
    "print(f\"TEMP 0.2: {softmax(logits_temp_p2)}\")\n",
    "print(f\"TEMP 0.4: {softmax(logits_temp_p4)}\")\n",
    "print(f\"TEMP 0.6: {softmax(logits_temp_p6)}\")\n",
    "print(f\"TEMP 0.8: {softmax(logits_temp_p8)}\")\n",
    "print(f\"TEMP 1.0: {softmax(logits_temp_p10)}\")\n",
    "print(f\"TEMP 1.5: {softmax(logits_temp_p15)}\")\n",
    "print(f\"TEMP 150: {softmax(logits_temp_p150)}\")"
   ]
  },
  {
   "cell_type": "code",
   "execution_count": null,
   "metadata": {},
   "outputs": [],
   "source": [
    "# takes a 1D vector (a single sam) and converts it to 3D for input to the network\n",
    "def timestep_to3d(x):\n",
    "    return np.reshape(x, (1, 1, x.shape[0]))\n",
    "\n",
    "# create one-hot vector representation for a time step given the index position of the encoded value\n",
    "def vectorize(index, vec_size):\n",
    "    index = int(index)\n",
    "    vec = np.zeros(vec_size, np.float32)\n",
    "    vec[index] = 1.0\n",
    "    return vec\n",
    "\n",
    "# returns the index of the one-hot encoded value\n",
    "def unvectorize(x):\n",
    "    return np.argmax(x)"
   ]
  },
  {
   "cell_type": "code",
   "execution_count": null,
   "metadata": {},
   "outputs": [],
   "source": [
    "# single layer Unidirectional or Bidirectional LSTM; will easily allow us to test various configurations\n",
    "def getModel(num_features, bidirectional=True, temperature=1.0):\n",
    "    model = Sequential()\n",
    "    # only dif. betwn. bi. LSTM and uni. LSTM is the presence/absence of Bidirectional wrapper\n",
    "    # hidden layer 1; 20  units; input (# timesteps, # features); return a sequence of each time step's outputs\n",
    "    # input_shape first value None makes it variable (we don't have fixed length sequences)\n",
    "    # output of LSTM cell uses tanh activation, recurrent connections use sigmoid\n",
    "    if bidirectional:\n",
    "        model.add(Bidirectional(LSTM(20, input_shape=(None, num_features), return_sequences=True)))\n",
    "    else:\n",
    "        model.add(LSTM(20, input_shape=(None, num_features), return_sequences=True))\n",
    "        \n",
    "    # so that we can divibe by temperature before feeding through softmax\n",
    "    model.add(Lambda(lambda x: x / temperature))\n",
    "        \n",
    "    # TimeDistributed is a wrapper allowing one output per time step; \n",
    "    # ...requires hidden layer to have return_sequences == True\n",
    "    model.add(TimeDistributed(Dense(num_features, activation='softmax')))\n",
    "    model.compile(loss='categorical_crossentropy', optimizer='adam', metrics=['accuracy', 'categorical_crossentropy'])\n",
    "    return model"
   ]
  },
  {
   "cell_type": "code",
   "execution_count": null,
   "metadata": {},
   "outputs": [],
   "source": [
    "# train LSTM\n",
    "def trainModel(model, X, epochs=30, bidirectional=True):\n",
    "    print(X.shape)\n",
    "    Y = deepcopy(X)\n",
    "    if not bidirectional:\n",
    "        Y = Y[1:] # labels include all time steps but the first one in unidir. LSTM\n",
    "    model.fit(X, Y, epochs=epochs, verbose=1, validation_split=0.2)"
   ]
  },
  {
   "cell_type": "code",
   "execution_count": null,
   "metadata": {},
   "outputs": [],
   "source": [
    "# return a single index from a sample of a softmax distribution vector\n",
    "def sample_distribution(dist_vec, num_categories):\n",
    "    return tf.random.categorical(dist_vec.reshape(1, num_categories), 1).numpy().flatten()[0]\n",
    "\n",
    "# use the trained model to compose new music by feeding in a single input and desired length\n",
    "def compose(pitch_model, duration_model, pitch_prompt, duration_prompt, length):\n",
    "    '''pitch_model: the trained model for pitch predictions\n",
    "       duration_model: trained model for duration predictions\n",
    "       pitch_prompt: the first pitch of the piece (index of the one-hot encoded pitch vector)\n",
    "       duration_prompt: the first duration of the piece (index of the one-hot encoded duration vector)\n",
    "       length: how many time steps to generate for\n",
    "       \n",
    "       returns a music21.stream.Stream object representing the composition\n",
    "    '''    \n",
    "    # the lists that hold the indices of the values to index in to pitches/durations lists\n",
    "    generated_pitches, generated_durations = [pitch_prompt], [duration_prompt]\n",
    "    \n",
    "    current_pitch, current_duration = pitch_prompt, duration_prompt\n",
    "    for t in range(length):\n",
    "        # model only accepts 3D inputs\n",
    "        pitch_vec = timestep_to3d(vectorize(current_pitch, num_pitches))\n",
    "        duration_vec = timestep_to3d(vectorize(current_duration, num_durations))\n",
    "        \n",
    "        # predict the output distributions\n",
    "        pitch_pred = pitch_model.predict(pitch_vec)\n",
    "        duration_pred = duration_model.predict(duration_vec)\n",
    "        # sample the distributions (returns the index of the one-hot vectors)\n",
    "        next_pitch = sample_distribution(pitch_pred, num_pitches)\n",
    "        next_duration = sample_distribution(duration_pred, num_durations)\n",
    "        generated_pitches.append(next_pitch)\n",
    "        generated_durations.append(next_duration)\n",
    "        \n",
    "        # get ready for next iteration\n",
    "        current_pitch, current_duration = next_pitch, next_duration\n",
    "        \n",
    "    \n",
    "    composed_stream = stream.Stream()\n",
    "    for pair in list(zip(generated_pitches, generated_durations)):\n",
    "        p = pitch.Pitch(midi=pair[0])\n",
    "        d = duration.Duration(float(pair[1]))\n",
    "        n = note.Note()\n",
    "        n.pitch = p\n",
    "        n.duration = d\n",
    "        composed_stream.append(n)\n",
    "        \n",
    "    return composed_stream"
   ]
  },
  {
   "cell_type": "code",
   "execution_count": null,
   "metadata": {},
   "outputs": [],
   "source": [
    "duration_bidirectional = getModel(num_durations, bidirectional=True)\n",
    "trainModel(duration_bidirectional, short_seqs_duration_train, bidirectional=True)\n",
    "trainModel(duration_bidirectional, medium_seqs_duration_train, bidirectional=True)\n",
    "trainModel(duration_bidirectional, long_seqs_duration_train, bidirectional=True)"
   ]
  },
  {
   "cell_type": "code",
   "execution_count": null,
   "metadata": {},
   "outputs": [],
   "source": [
    "pitch_bidirectional = getModel(num_pitches, bidirectional=True)\n",
    "trainModel(pitch_bidirectional, short_seqs_pitch_train, bidirectional=True)\n",
    "trainModel(pitch_bidirectional, medium_seqs_pitch_train, bidirectional=True)\n",
    "trainModel(pitch_bidirectional, long_seqs_pitch_train, bidirectional=True)"
   ]
  },
  {
   "cell_type": "code",
   "execution_count": null,
   "metadata": {},
   "outputs": [],
   "source": [
    "piece1 = compose(pitch_bidirectional, duration_bidirectional, 3, 4, 100)\n",
    "piece2 = compose(pitch_bidirectional, duration_bidirectional, 3, 4, 100)"
   ]
  },
  {
   "cell_type": "code",
   "execution_count": null,
   "metadata": {},
   "outputs": [],
   "source": [
    "piece1.show('midi')"
   ]
  },
  {
   "cell_type": "code",
   "execution_count": null,
   "metadata": {},
   "outputs": [],
   "source": [
    "piece1.show()"
   ]
  },
  {
   "cell_type": "code",
   "execution_count": null,
   "metadata": {},
   "outputs": [],
   "source": [
    "piece2.show('midi')"
   ]
  },
  {
   "cell_type": "code",
   "execution_count": null,
   "metadata": {},
   "outputs": [],
   "source": [
    "piece2.show()"
   ]
  },
  {
   "cell_type": "code",
   "execution_count": null,
   "metadata": {},
   "outputs": [],
   "source": []
  },
  {
   "cell_type": "code",
   "execution_count": null,
   "metadata": {
    "scrolled": true
   },
   "outputs": [],
   "source": [
    "duration_pred = duration_bidirectional.predict(to_3D(long_seqs_duration_test[0]))\n",
    "composed_durations = duration_one_hot_to_quarter_length(duration_pred.reshape(long_seq_len, num_durations))\n",
    "\n",
    "pitch_pred = pitch_bidirectional.predict(to_3D(long_seqs_pitch_test[0]))\n",
    "composed_pitches = pitch_one_hot_to_MIDI(pitch_pred.reshape(long_seq_len, num_pitches))"
   ]
  },
  {
   "cell_type": "code",
   "execution_count": null,
   "metadata": {},
   "outputs": [],
   "source": [
    "composed_pairs = list(zip(composed_pitches, composed_durations))\n",
    "\n",
    "composed_stream = stream.Stream()\n",
    "for pair in composed_pairs:\n",
    "    p = pitch.Pitch(midi=pair[0])\n",
    "    d = duration.Duration(pair[1])\n",
    "    n = note.Note()\n",
    "    n.pitch = p\n",
    "    n.duration = d\n",
    "    composed_stream.append(n)"
   ]
  },
  {
   "cell_type": "code",
   "execution_count": null,
   "metadata": {
    "scrolled": true
   },
   "outputs": [],
   "source": [
    "composed_stream.show('midi')"
   ]
  },
  {
   "cell_type": "code",
   "execution_count": null,
   "metadata": {},
   "outputs": [],
   "source": [
    "composed_stream.show()"
   ]
  },
  {
   "cell_type": "code",
   "execution_count": null,
   "metadata": {},
   "outputs": [],
   "source": []
  }
 ],
 "metadata": {
  "kernelspec": {
   "display_name": "Python 3",
   "language": "python",
   "name": "python3"
  },
  "language_info": {
   "codemirror_mode": {
    "name": "ipython",
    "version": 3
   },
   "file_extension": ".py",
   "mimetype": "text/x-python",
   "name": "python",
   "nbconvert_exporter": "python",
   "pygments_lexer": "ipython3",
   "version": "3.7.1"
  }
 },
 "nbformat": 4,
 "nbformat_minor": 2
}
