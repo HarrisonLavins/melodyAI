{
 "cells": [
  {
   "cell_type": "code",
   "execution_count": 3,
   "metadata": {},
   "outputs": [],
   "source": [
    "from music21 import *\n",
    "import pandas as pd\n",
    "import numpy as np"
   ]
  },
  {
   "cell_type": "markdown",
   "metadata": {},
   "source": [
    "### Features\n",
    "- chord_names (nominal)\n",
    "        - Label encoding (C major -> 0, A major -> 13)\n",
    "        - One-hot encoding?\n",
    "        - Feature hashing\n",
    "- roman_numerals"
   ]
  },
  {
   "cell_type": "code",
   "execution_count": null,
   "metadata": {},
   "outputs": [],
   "source": [
    "myChord = chord.Chord([\"E-5\",\"C4\",\"G4\"])\n",
    "myChord.show()"
   ]
  },
  {
   "cell_type": "code",
   "execution_count": null,
   "metadata": {},
   "outputs": [],
   "source": [
    "myChord"
   ]
  },
  {
   "cell_type": "code",
   "execution_count": null,
   "metadata": {},
   "outputs": [],
   "source": [
    "pitches = myChord.pitches\n",
    "pitches"
   ]
  },
  {
   "cell_type": "code",
   "execution_count": null,
   "metadata": {},
   "outputs": [],
   "source": [
    "melody = pitches[-1]\n",
    "melody"
   ]
  },
  {
   "cell_type": "code",
   "execution_count": null,
   "metadata": {},
   "outputs": [],
   "source": [
    "myChord.sortAscending(inPlace = True)"
   ]
  },
  {
   "cell_type": "code",
   "execution_count": null,
   "metadata": {},
   "outputs": [],
   "source": [
    "bachCorpus = corpus.search('bach', 'composer')\n",
    "bachCorpus[-23].parse().show()"
   ]
  },
  {
   "cell_type": "code",
   "execution_count": null,
   "metadata": {},
   "outputs": [],
   "source": [
    "#Load corpus of Bach chorales\n",
    "bachCorpus = corpus.search('bach', 'composer')\n",
    "\n",
    "\n",
    "for chorale in bachCorpus:\n",
    "    chorale = chorale.parse()\n",
    "    print('Processing chorale: {}'.format(chorale.metadata.title))\n",
    "    sopranoPart = chorale.getElementsByClass('Part')[0]\n",
    "    \n",
    "    for keychange in sopranoPart.recurse().getElementsByClass(key.Key):\n",
    "        #Get key information and offset location\n",
    "        print(keychange, keychange.offset)\n"
   ]
  },
  {
   "cell_type": "code",
   "execution_count": null,
   "metadata": {},
   "outputs": [],
   "source": [
    "#Iterate through soprano part and print all key changes\n",
    "print('Key Changes:')\n",
    "for keychange in soprano.recurse().getElementsByClass(key.Key):\n",
    "    #Get key information and offset location\n",
    "    print(keychange, keychange.offset)"
   ]
  },
  {
   "cell_type": "code",
   "execution_count": null,
   "metadata": {},
   "outputs": [],
   "source": [
    "bachFeatures = pd.DataFrame(np.zeros((len(bach),2)), columns = ['roman_numerals', 'mel_notes'], dtype='object')\n",
    "bachFeatures"
   ]
  },
  {
   "cell_type": "code",
   "execution_count": null,
   "metadata": {},
   "outputs": [],
   "source": [
    "bachFeatures.dtypes"
   ]
  },
  {
   "cell_type": "code",
   "execution_count": null,
   "metadata": {},
   "outputs": [],
   "source": [
    "k = key.Key('f#')  # 3-sharps minor\n",
    "rn = roman.RomanNumeral('V', k)\n",
    "rn.key"
   ]
  },
  {
   "cell_type": "code",
   "execution_count": null,
   "metadata": {},
   "outputs": [],
   "source": [
    "rn.pitchedCommonName"
   ]
  },
  {
   "cell_type": "markdown",
   "metadata": {},
   "source": [
    "### Feature Extraction"
   ]
  },
  {
   "cell_type": "code",
   "execution_count": 85,
   "metadata": {},
   "outputs": [],
   "source": [
    "# extract the notes from each piece in the corpus and place in in the x_train variable\n",
    "\n",
    "bachCorpus = corpus.getComposer('bach')\n",
    "x_train = []\n",
    "# gets the index to change to 1 in the feature vector when a given value of pitch class is encountered\n",
    "pc_dict = {'0': 0, '1': 1, '2': 2, '3': 3, '4': 4, '5': 5, '6': 6, '7': 7, '8': 8, '9': 9, 'A': 10, 'B': 11}\n",
    "# gets the index to change to 1 in the feature vector when a given value of octave is encountered\n",
    "oct_dict = {0: 12, 1: 13, 2: 14, 3: 15, 4: 16, 5: 17, 6: 18, 7: 19}\n",
    "\n",
    "durations = []\n",
    "\n",
    "# TODO: extract rests as well\n",
    "# TODO: bin durations\n",
    "\n",
    "for piece in bachCorpus:\n",
    "    sample = []\n",
    "    pieceScore = corpus.parse(piece)  # stream.Score object\n",
    "    melodyPart = pieceScore.getElementsByClass('Part')[0]  # melody parts are always the first part in the score\n",
    "    melodyNotes = melodyPart.flat.getElementsByClass('Note')\n",
    "    \n",
    "    # DON'T CHANGE n to Note or note (namespace conflict)\n",
    "    # builds the feature vector by One-Hot encoding pitch class/octave with the duration at the end\n",
    "    for n in melodyNotes.recurse():  # iterates through all notes in the piece\n",
    "        pitchClass = n.pitch.pitchClassString\n",
    "        pitchOctave = n.pitch.octave\n",
    "        noteDuration = n.duration.quarterLength\n",
    "        if noteDuration not in durations:\n",
    "            durations.append(noteDuration)\n",
    "        new_row = np.zeros(21) # initialize this note's feature vector\n",
    "        new_row[pc_dict[pitchClass]] = 1\n",
    "        new_row[oct_dict[pitchOctave]] = 1\n",
    "        new_row[-1] = noteDuration\n",
    "        sample.append(new_row) # appends the next time step to the sample\n",
    "        \n",
    "    x_train.append(sample)"
   ]
  },
  {
   "cell_type": "code",
   "execution_count": 90,
   "metadata": {},
   "outputs": [
    {
     "data": {
      "text/plain": [
       "[1.0, 0.5, 0.25, 2.0, 1.5, 4.0, 3.0, 0.75, 8.0, 6.0, 0.125, 0.0]"
      ]
     },
     "execution_count": 90,
     "metadata": {},
     "output_type": "execute_result"
    }
   ],
   "source": [
    "durations"
   ]
  },
  {
   "cell_type": "code",
   "execution_count": 87,
   "metadata": {},
   "outputs": [
    {
     "ename": "SyntaxError",
     "evalue": "invalid syntax (<ipython-input-87-c903ed16cfc7>, line 4)",
     "output_type": "error",
     "traceback": [
      "\u001b[0;36m  File \u001b[0;32m\"<ipython-input-87-c903ed16cfc7>\"\u001b[0;36m, line \u001b[0;32m4\u001b[0m\n\u001b[0;31m    for piece in j\u001b[0m\n\u001b[0m                  ^\u001b[0m\n\u001b[0;31mSyntaxError\u001b[0m\u001b[0;31m:\u001b[0m invalid syntax\n"
     ]
    }
   ],
   "source": [
    "# set up labels for each time step of each piece (which is just the next note)"
   ]
  },
  {
   "cell_type": "code",
   "execution_count": null,
   "metadata": {},
   "outputs": [],
   "source": []
  }
 ],
 "metadata": {
  "kernelspec": {
   "display_name": "Python 3",
   "language": "python",
   "name": "python3"
  },
  "language_info": {
   "codemirror_mode": {
    "name": "ipython",
    "version": 3
   },
   "file_extension": ".py",
   "mimetype": "text/x-python",
   "name": "python",
   "nbconvert_exporter": "python",
   "pygments_lexer": "ipython3",
   "version": "3.7.1"
  }
 },
 "nbformat": 4,
 "nbformat_minor": 4
}
