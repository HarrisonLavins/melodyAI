{
 "cells": [
  {
   "cell_type": "code",
   "execution_count": 1,
   "metadata": {},
   "outputs": [],
   "source": [
    "from music21 import *\n",
    "import pandas as pd\n",
    "import numpy as np\n",
    "from sklearn.preprocessing import OneHotEncoder"
   ]
  },
  {
   "cell_type": "markdown",
   "metadata": {},
   "source": [
    "### Features\n",
    "- chord_names (nominal)\n",
    "        - Label encoding (C major -> 0, A major -> 13)\n",
    "        - One-hot encoding?\n",
    "        - Feature hashing\n",
    "- roman_numerals"
   ]
  },
  {
   "cell_type": "code",
   "execution_count": null,
   "metadata": {},
   "outputs": [],
   "source": [
    "myChord = chord.Chord([\"E-5\",\"C4\",\"G4\"])\n",
    "myChord.show()"
   ]
  },
  {
   "cell_type": "code",
   "execution_count": null,
   "metadata": {},
   "outputs": [],
   "source": [
    "myChord"
   ]
  },
  {
   "cell_type": "code",
   "execution_count": null,
   "metadata": {},
   "outputs": [],
   "source": [
    "pitches = myChord.pitches\n",
    "pitches"
   ]
  },
  {
   "cell_type": "code",
   "execution_count": null,
   "metadata": {},
   "outputs": [],
   "source": [
    "melody = pitches[-1]\n",
    "melody"
   ]
  },
  {
   "cell_type": "code",
   "execution_count": null,
   "metadata": {},
   "outputs": [],
   "source": [
    "myChord.sortAscending(inPlace = True)"
   ]
  },
  {
   "cell_type": "code",
   "execution_count": null,
   "metadata": {},
   "outputs": [],
   "source": [
    "bachCorpus = corpus.search('bach', 'composer')\n",
    "bachCorpus[-23].parse().show()"
   ]
  },
  {
   "cell_type": "code",
   "execution_count": null,
   "metadata": {},
   "outputs": [],
   "source": [
    "#Load corpus of Bach chorales\n",
    "bachCorpus = corpus.search('bach', 'composer')\n",
    "\n",
    "\n",
    "for chorale in bachCorpus:\n",
    "    chorale = chorale.parse()\n",
    "    print('Processing chorale: {}'.format(chorale.metadata.title))\n",
    "    sopranoPart = chorale.getElementsByClass('Part')[0]\n",
    "    \n",
    "    for keychange in sopranoPart.recurse().getElementsByClass(key.Key):\n",
    "        #Get key information and offset location\n",
    "        print(keychange, keychange.offset)\n"
   ]
  },
  {
   "cell_type": "code",
   "execution_count": null,
   "metadata": {},
   "outputs": [],
   "source": [
    "#Iterate through soprano part and print all key changes\n",
    "print('Key Changes:')\n",
    "for keychange in soprano.recurse().getElementsByClass(key.Key):\n",
    "    #Get key information and offset location\n",
    "    print(keychange, keychange.offset)"
   ]
  },
  {
   "cell_type": "code",
   "execution_count": null,
   "metadata": {},
   "outputs": [],
   "source": [
    "bachFeatures = pd.DataFrame(np.zeros((len(bach),2)), columns = ['roman_numerals', 'mel_notes'], dtype='object')\n",
    "bachFeatures"
   ]
  },
  {
   "cell_type": "code",
   "execution_count": null,
   "metadata": {},
   "outputs": [],
   "source": [
    "bachFeatures.dtypes"
   ]
  },
  {
   "cell_type": "code",
   "execution_count": null,
   "metadata": {},
   "outputs": [],
   "source": [
    "k = key.Key('f#')  # 3-sharps minor\n",
    "rn = roman.RomanNumeral('V', k)\n",
    "rn.key"
   ]
  },
  {
   "cell_type": "code",
   "execution_count": null,
   "metadata": {},
   "outputs": [],
   "source": [
    "rn.pitchedCommonName"
   ]
  },
  {
   "cell_type": "markdown",
   "metadata": {},
   "source": [
    "### Feature Extraction"
   ]
  },
  {
   "cell_type": "code",
   "execution_count": 2,
   "metadata": {},
   "outputs": [],
   "source": [
    "# extract the notes from each piece in the corpus and place in in the raw_note_dataset variable\n",
    "\n",
    "bachCorpus = corpus.getComposer('bach')\n",
    "raw_note_dataset = [] # 'raw' because this is the data before we transform it for use in the network\n",
    "for piece in bachCorpus:\n",
    "    sample = []\n",
    "    pieceScore = corpus.parse(piece)  # stream.Score object\n",
    "    melodyPart = pieceScore.getElementsByClass('Part')[0]  # melody parts are always the first part in the score\n",
    "    melodyNotes = melodyPart.flat.getElementsByClass('Note')\n",
    "    \n",
    "    # DON'T CHANGE n to Note or note (namespace conflict)\n",
    "    for n in melodyNotes.recurse():  # iterates through all notes in the piece\n",
    "        pitchClass = n.pitch.pitchClassString\n",
    "        pitchOctave = n.pitch.octave\n",
    "        noteDuration = n.duration.quarterLength\n",
    "        sample.append([pitchClass, pitchOctave, noteDuration]) # appends the next time step to the sample\n",
    "        \n",
    "    dataset.append(sample)\n",
    "    \n",
    "# use this to see exactly what the data structure looks like    \n",
    "# for sample in dataset:\n",
    "#     print('SAMPLE')\n",
    "#     for note in sample:\n",
    "#         print('\\tNOTE')\n",
    "#         print(f\"\\t\\tPitch class – {note[0]}\\n\\t\\tOctave – {note[1]}\\n\\t\\tDuration – {note[2]}\")"
   ]
  },
  {
   "cell_type": "code",
   "execution_count": null,
   "metadata": {},
   "outputs": [],
   "source": [
    "# one-hot encode the the pitch class and octave features\n",
    "\n"
   ]
  }
 ],
 "metadata": {
  "kernelspec": {
   "display_name": "Python 3",
   "language": "python",
   "name": "python3"
  },
  "language_info": {
   "codemirror_mode": {
    "name": "ipython",
    "version": 3
   },
   "file_extension": ".py",
   "mimetype": "text/x-python",
   "name": "python",
   "nbconvert_exporter": "python",
   "pygments_lexer": "ipython3",
   "version": "3.7.1"
  }
 },
 "nbformat": 4,
 "nbformat_minor": 4
}
