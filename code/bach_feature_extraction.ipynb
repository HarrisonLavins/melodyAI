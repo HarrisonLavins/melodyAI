{
 "cells": [
  {
   "cell_type": "code",
   "execution_count": null,
   "metadata": {},
   "outputs": [],
   "source": [
    "from music21 import *\n",
    "import pandas as pd\n",
    "import numpy as np\n",
    "from math import ceil, floor\n",
    "import pickle"
   ]
  },
  {
   "cell_type": "markdown",
   "metadata": {},
   "source": [
    "### Feature Extraction"
   ]
  },
  {
   "cell_type": "code",
   "execution_count": null,
   "metadata": {},
   "outputs": [],
   "source": [
    "# extract the notes from each piece in the corpus and place in the x_train variable\n",
    "\n",
    "bach_corpus = corpus.getComposer('bach')\n",
    "# pitch_train/duration_train are NOT one-hot encoded, they will instead be encoded by an embedding layer in the network\n",
    "pitch_train = []  # training data for the sequence of pitches (MIDI number)\n",
    "duration_train = []  # training data for the sequence of note durations (floats)\n",
    "pitch_freq = {} # how often a given pitch occurs (will be normalized after all pieces have been analyzed)\n",
    "duration_freq = {}  # how often each pitch occurs (will be normalized after all pieces have been analyzed)\n",
    "starting_pitch_likelihood = {}  # how likely a piece is to start with a given MIDI pitch \n",
    "starting_duration_likelihood = {}  # how likely a piece is to start with a given duration\n",
    "\n",
    "for piece in bach_corpus:\n",
    "    piece_score = corpus.parse(piece)  # stream.Score object\n",
    "    melody_part = piece_score.getElementsByClass('Part')[0]  # melody parts are always the first part in the score\n",
    "    melody_notes = melody_part.flat.getElementsByClass(['Note', 'Rest'])\n",
    "    \n",
    "    # transpose all pitches within the range of +6 to -5 half steps (including the unaltered version)\n",
    "    for i in range(6,-6,-1):\n",
    "        # transpose the melody part\n",
    "        melody_transposed = melody_notes.transpose(i)\n",
    "        pitch_sequence = []  # the sequence of MIDI pitches for this piece\n",
    "        duration_sequence = []  # the sequence of quarter length note durations for this piece\n",
    "    \n",
    "        is_first_note = True # used to build the prob. dist of starting pitch/duration\n",
    "        for n in melody_transposed.recurse():  # iterates through all notes in the piece\n",
    "            note_duration = n.duration.quarterLength\n",
    "            if note_duration < 0.25 or note_duration >= 6.0:\n",
    "                continue  # discard all notes less than 16th notes\n",
    "            else:\n",
    "                duration_sequence.append(note_duration)\n",
    "                if note_duration not in duration_freq.keys():\n",
    "                    duration_freq[note_duration] = 1\n",
    "                else:\n",
    "                    duration_freq[note_duration] += 1\n",
    "\n",
    "            if n.isNote:  # and is therefore not a rest; has pitch\n",
    "                midi_pitch = n.pitch.midi\n",
    "                pitch_sequence.append(midi_pitch)\n",
    "                if midi_pitch not in pitch_freq.keys():\n",
    "                    pitch_freq[midi_pitch] = 1\n",
    "                else:\n",
    "                    pitch_freq[midi_pitch] += 1\n",
    "            else:  # is a rest\n",
    "                if -1 not in pitch_freq.keys():\n",
    "                    pitch_freq[-1] = 1\n",
    "                else:\n",
    "                    pitch_freq[-1] += 1\n",
    "                pitch_sequence.append(-1) # -1 pitch indicates it is a rest\n",
    "                \n",
    "            if is_first_note: # save the note info to keep track of how often each pitch/duration starts a piece\n",
    "                if midi_pitch in starting_pitch_likelihood.keys():\n",
    "                    starting_pitch_likelihood[midi_pitch] += 1\n",
    "                else:\n",
    "                    starting_pitch_likelihood[midi_pitch] = 1\n",
    "                    \n",
    "                if note_duration in starting_duration_likelihood:\n",
    "                    starting_duration_likelihood[note_duration] += 1\n",
    "                else:\n",
    "                    starting_duration_likelihood[note_duration] = 1\n",
    "                    \n",
    "                is_first_note = False\n",
    "        \n",
    "        pitch_train.append(pitch_sequence)\n",
    "        duration_train.append(duration_sequence) "
   ]
  },
  {
   "cell_type": "code",
   "execution_count": null,
   "metadata": {},
   "outputs": [],
   "source": [
    "pitch_vocab, duration_vocab = sorted(list(pitch_freq.keys())), sorted(list(duration_freq.keys()))\n",
    "pitch_vocab_size, duration_vocab_size = len(pitch_vocab), len(duration_vocab)\n",
    "\n",
    "# normalize the frequency of ALL pitches/duration\n",
    "pitch_freq = {p: float(pitch_freq[p]/sum(pitch_freq.values())) for p in sorted(pitch_freq.keys())}\n",
    "duration_freq = {d: float(duration_freq[d]/sum(duration_freq.values())) for d in sorted(duration_freq.keys())}\n",
    "# normalize the occurrences of STARTING pitches/durations\n",
    "starting_pitch_likelihood = {p: float(starting_pitch_likelihood[p]/sum(starting_pitch_likelihood.values())) for p in sorted(starting_pitch_likelihood.keys())}\n",
    "starting_duration_likelihood = {d: float(starting_duration_likelihood[d]/sum(starting_duration_likelihood.values())) for d in sorted(starting_duration_likelihood.keys())}"
   ]
  },
  {
   "cell_type": "code",
   "execution_count": null,
   "metadata": {},
   "outputs": [],
   "source": [
    "sequence_length_counts = {}\n",
    "all_sequence_lengths = []\n",
    "for sequence in pitch_train:\n",
    "    if len(sequence) == 0:\n",
    "        continue\n",
    "    if len(sequence) in sequence_length_counts.keys():\n",
    "        sequence_length_counts[len(sequence)] += 1\n",
    "    else:\n",
    "        sequence_length_counts[len(sequence)] = 1\n",
    "\n",
    "sequence_length_counts = {key: sequence_length_counts[key] for key in sorted(sequence_length_counts.keys())}\n",
    "\n",
    "# sequence_length_counts"
   ]
  },
  {
   "cell_type": "code",
   "execution_count": null,
   "metadata": {},
   "outputs": [],
   "source": [
    "# arbitrarily decide on ceiling/floor of lengths that we will consider for training\n",
    "# this is a bit clunky, but I'm trying to make it an general as possible (in case the corpus somehow drastically changes)\n",
    "min_length, max_length = 40, 70\n",
    "range_size = ceil((max_length - min_length) / 3)\n",
    "short_range = range(min_length, min_length + range_size)\n",
    "medium_range = range(min_length + range_size, max_length - range_size) \n",
    "long_range = range(max_length - range_size, max_length)"
   ]
  },
  {
   "cell_type": "code",
   "execution_count": null,
   "metadata": {
    "scrolled": true
   },
   "outputs": [],
   "source": [
    "# prune the data set\n",
    "print(f\"Number of sequences before pruning: {len(pitch_train)}\")\n",
    "short_seqs_duration = []\n",
    "short_seqs_pitch = []\n",
    "medium_seqs_duration = []\n",
    "medium_seqs_pitch = []\n",
    "long_seqs_duration = []\n",
    "long_seqs_pitch = []\n",
    "\n",
    "for seq_index in range(len(pitch_train)):\n",
    "    # the sequence must fall in one of the ranges we have determined\n",
    "    if len(pitch_train[seq_index]) in short_range:\n",
    "        short_seqs_duration.append(duration_train[seq_index])\n",
    "        short_seqs_pitch.append(pitch_train[seq_index])\n",
    "    elif len(pitch_train[seq_index]) in medium_range:\n",
    "        medium_seqs_duration.append(duration_train[seq_index])\n",
    "        medium_seqs_pitch.append(pitch_train[seq_index])\n",
    "    elif len(pitch_train[seq_index]) in long_range:\n",
    "        long_seqs_duration.append(duration_train[seq_index])\n",
    "        long_seqs_pitch.append(pitch_train[seq_index])\n",
    "    # else we don't use the sample\n",
    "        \n",
    "print(f\"Number of sequences (short, medium, long) after pruning: {len(short_seqs_duration), len(medium_seqs_duration), len(long_seqs_duration)}\")"
   ]
  },
  {
   "cell_type": "code",
   "execution_count": null,
   "metadata": {
    "scrolled": true
   },
   "outputs": [],
   "source": [
    "print(len(short_seqs_duration), len(short_seqs_pitch))\n",
    "print(len(medium_seqs_duration), len(medium_seqs_pitch))\n",
    "print(len(long_seqs_duration), len(long_seqs_pitch))"
   ]
  },
  {
   "cell_type": "code",
   "execution_count": null,
   "metadata": {},
   "outputs": [],
   "source": [
    "# serialize training data and labels for use in another script\n",
    "with open('pickles/short_seqs_duration.pickle', 'wb') as f:\n",
    "    pickle.dump(short_seqs_duration, f)\n",
    "    \n",
    "with open('pickles/short_seqs_pitch.pickle', 'wb') as f:\n",
    "    pickle.dump(short_seqs_pitch, f)\n",
    "    \n",
    "with open('pickles/medium_seqs_duration.pickle', 'wb') as f:\n",
    "    pickle.dump(medium_seqs_duration, f)\n",
    "    \n",
    "with open('pickles/medium_seqs_pitch.pickle', 'wb') as f:\n",
    "    pickle.dump(medium_seqs_pitch, f)\n",
    "    \n",
    "with open('pickles/long_seqs_duration.pickle', 'wb') as f:\n",
    "    pickle.dump(long_seqs_duration, f)\n",
    "    \n",
    "with open('pickles/long_seqs_pitch.pickle', 'wb') as f:\n",
    "    pickle.dump(long_seqs_pitch, f)"
   ]
  },
  {
   "cell_type": "code",
   "execution_count": null,
   "metadata": {},
   "outputs": [],
   "source": [
    "# serialize the relevant pitches/durations so we can get the respective values from the prediction output vectors\n",
    "with open('pickles/pitch_vocab.pickle', 'wb') as f:\n",
    "    pickle.dump(pitch_vocab, f)\n",
    "\n",
    "with open('pickles/duration_vocab.pickle', 'wb') as f:\n",
    "    pickle.dump(duration_vocab, f)\n",
    "    \n",
    "with open('pickles/starting_pitch_likelihood.pickle', 'wb') as f:\n",
    "    pickle.dump(starting_pitch_likelihood, f)\n",
    "    \n",
    "with open('pickles/starting_duration_likelihood.pickle', 'wb') as f:\n",
    "    pickle.dump(starting_duration_likelihood, f)"
   ]
  }
 ],
 "metadata": {
  "kernelspec": {
   "display_name": "Python 3",
   "language": "python",
   "name": "python3"
  },
  "language_info": {
   "codemirror_mode": {
    "name": "ipython",
    "version": 3
   },
   "file_extension": ".py",
   "mimetype": "text/x-python",
   "name": "python",
   "nbconvert_exporter": "python",
   "pygments_lexer": "ipython3",
   "version": "3.7.1"
  }
 },
 "nbformat": 4,
 "nbformat_minor": 4
}
