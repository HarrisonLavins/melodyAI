{
 "cells": [
  {
   "cell_type": "markdown",
   "metadata": {},
   "source": [
    "### Bach Chord Extraction/Analysis\n",
    "\n",
    "- Using Music21 to extract all chords in the corpus of J.S. Bach chorales"
   ]
  },
  {
   "cell_type": "code",
   "execution_count": null,
   "metadata": {},
   "outputs": [],
   "source": [
    "from music21 import *\n",
    "import pandas as pd\n",
    "import numpy as np\n",
    "from collections import Counter\n",
    "import matplotlib.pyplot as plt\n",
    "plt.style.use('ggplot')"
   ]
  },
  {
   "cell_type": "code",
   "execution_count": null,
   "metadata": {},
   "outputs": [],
   "source": [
    "# Extract features from the corpus and place each piece in the chorales_train variable\n",
    "# --------------------------------------------------------------------------------\n",
    "bachCorpus = corpus.getComposer('bach')\n",
    "chorales_notes_train = [] #all chorale note tuples stored as a list\n",
    "chorales_chords_train = [] #all chorale chord sequences stored as a list\n",
    "\n",
    "# Keep track of all features encountered\n",
    "all_durations = []\n",
    "all_notes = []\n",
    "all_chords = []\n",
    "\n",
    "for piece in bachCorpus:    \n",
    "    pieceScore = corpus.parse(piece)  # stream.Score object\n",
    "    melodyPart = pieceScore.getElementsByClass('Part')[0]  # melody parts are always the first part in the score\n",
    "    melodyNotes = melodyPart.flat.getElementsByClass('Note') #extract all notes in the part\n",
    "    \n",
    "    print('Processing chorale: {}'.format(pieceScore.metadata.title))\n",
    "\n",
    "    \n",
    "    #Chordify and extract chord sequences\n",
    "    # ---------------------------------->\n",
    "    bChords = pieceScore.chordify()\n",
    "    #Condense all chords into the middle range of treble clef \n",
    "    for c in bChords.recurse().getElementsByClass('Chord'):\n",
    "        c.closedPosition(forceOctave=4, inPlace=True)\n",
    "        \n",
    "    #Analyze roman numerals\n",
    "    bKey = None\n",
    "    for keychange in melodyPart.recurse().getElementsByClass(key.Key):\n",
    "        #Get key of piece (for chord context)\n",
    "        bKey = keychange\n",
    "    for c in bChords.recurse().getElementsByClass('Chord'):\n",
    "        rn = roman.romanNumeralFromChord(c, bKey)\n",
    "        c.addLyric(str(rn.figure))\n",
    "    \n",
    "    #Collect chord sequence in a list\n",
    "    chordSequence = []\n",
    "    for c in bChords.flat:\n",
    "        if 'Chord' not in c.classes:\n",
    "            continue\n",
    "        chordSequence.append(c.lyric)\n",
    "        all_chords.append(c.lyric) #keep a running total of all chords seen\n",
    "    \n",
    "    chorales_chords_train.append(chordSequence) #store this piece's chord sequence in master list\n",
    "    \n",
    "    \n",
    "    #Extract note pitches and rhythms\n",
    "    # --------------------------------\n",
    "    noteSequence = [] #series of all notes in order, from start to end of piece\n",
    "    for n in melodyNotes.recurse():  # iterates through all notes in the piece\n",
    "        midiNote = n.pitch.midi\n",
    "        noteDuration = n.duration.quarterLength\n",
    "        noteTuple = (midiNote, noteDuration) # (MIDI_pitch, note_duration)\n",
    "        \n",
    "        # Keep track of all notes and durations seen thus far\n",
    "        all_durations.append(noteDuration) \n",
    "        all_notes.append(midiNote)\n",
    "            \n",
    "        noteSequence.append(noteTuple) # appends the next time step to the sample\n",
    "        \n",
    "    chorales_notes_train.append(noteSequence) #store this piece's sequence of notes in master list"
   ]
  },
  {
   "cell_type": "code",
   "execution_count": null,
   "metadata": {},
   "outputs": [],
   "source": [
    "print(f\"Number of chorales analyzed: {len(chorales_chords_train)}\")"
   ]
  },
  {
   "cell_type": "code",
   "execution_count": null,
   "metadata": {},
   "outputs": [],
   "source": [
    "#View chords analyzed in corpus\n",
    "chorales_chords_train[0]"
   ]
  },
  {
   "cell_type": "code",
   "execution_count": null,
   "metadata": {},
   "outputs": [],
   "source": [
    "#View chord counts over the entire corpus\n",
    "chords_dict = Counter(all_chords)\n",
    "chords_dict"
   ]
  },
  {
   "cell_type": "code",
   "execution_count": null,
   "metadata": {},
   "outputs": [],
   "source": [
    "print(\"Number of distinct chords in corpus: \", len(chords_dict.keys()))"
   ]
  }
 ],
 "metadata": {
  "kernelspec": {
   "display_name": "Python 3",
   "language": "python",
   "name": "python3"
  },
  "language_info": {
   "codemirror_mode": {
    "name": "ipython",
    "version": 3
   },
   "file_extension": ".py",
   "mimetype": "text/x-python",
   "name": "python",
   "nbconvert_exporter": "python",
   "pygments_lexer": "ipython3",
   "version": "3.7.0"
  }
 },
 "nbformat": 4,
 "nbformat_minor": 4
}
